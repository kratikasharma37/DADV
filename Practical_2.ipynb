{
  "nbformat": 4,
  "nbformat_minor": 0,
  "metadata": {
    "colab": {
      "provenance": [],
      "authorship_tag": "ABX9TyPYcAX7hKNvsk1O+3PPeKy0",
      "include_colab_link": true
    },
    "kernelspec": {
      "name": "python3",
      "display_name": "Python 3"
    },
    "language_info": {
      "name": "python"
    }
  },
  "cells": [
    {
      "cell_type": "markdown",
      "metadata": {
        "id": "view-in-github",
        "colab_type": "text"
      },
      "source": [
        "<a href=\"https://colab.research.google.com/github/kratikasharma37/DADV/blob/main/Practical_2.ipynb\" target=\"_parent\"><img src=\"https://colab.research.google.com/assets/colab-badge.svg\" alt=\"Open In Colab\"/></a>"
      ]
    },
    {
      "cell_type": "code",
      "execution_count": null,
      "metadata": {
        "colab": {
          "base_uri": "https://localhost:8080/"
        },
        "id": "GGx3Od0X6YBV",
        "outputId": "c9b46558-d00f-4418-a15c-8c991b86cb64"
      },
      "outputs": [
        {
          "output_type": "stream",
          "name": "stdout",
          "text": [
            "4.5\n",
            "1.3\n",
            "4.716666666666667\n",
            "2.9396711834262463\n",
            "8.641666666666666\n"
          ]
        }
      ],
      "source": [
        "import statistics as st\n",
        "import numpy as np\n",
        "import pandas as pd\n",
        "import matplotlib.pyplot as plt\n",
        "import scipy.stats as stats\n",
        "\n",
        "data = [1.3,4,5,7,9,2]\n",
        "numeric_data = data\n",
        "x1 = st.median(numeric_data)\n",
        "print(x1)\n",
        "x2 = st.mode(numeric_data)\n",
        "print(x2)\n",
        "x3 = st.mean(numeric_data)\n",
        "print(x3)\n",
        "x4 = st.stdev(numeric_data)\n",
        "print(x4)\n",
        "x5 = st.variance(numeric_data)\n",
        "print(x5)"
      ]
    },
    {
      "cell_type": "code",
      "source": [
        "labels = ['Median','Mode','Mean','Stdev','Variance']\n",
        "values = [x1, x2, x3, x4, x5]"
      ],
      "metadata": {
        "id": "SsnYsE6E670a"
      },
      "execution_count": null,
      "outputs": []
    },
    {
      "cell_type": "code",
      "source": [
        "#plot bar chart\n",
        "plt.figure(figsize=(8,5))\n",
        "plt.bar(labels, values,color = 'cyan')\n",
        "plt.title(\"Summary Statistics\")\n",
        "plt.ylabel(\"Value\")\n",
        "plt.grid(axis='y')\n",
        "plt.tight_layout()\n",
        "plt.savefig(\"summary_statistics_plot.png\") #Optional:save as image\n",
        "\n",
        "\n"
      ],
      "metadata": {
        "colab": {
          "base_uri": "https://localhost:8080/",
          "height": 507
        },
        "id": "COEFtR2j8cwS",
        "outputId": "26655474-a262-4262-f8df-57d70089b1e3"
      },
      "execution_count": null,
      "outputs": [
        {
          "output_type": "display_data",
          "data": {
            "text/plain": [
              "<Figure size 800x500 with 1 Axes>"
            ],
            "image/png": "[encoded data removed]"
          },
          "metadata": {}
        }
      ]
    },
    {
      "cell_type": "code",
      "source": [
        "data1 = (11,3,4,5,7,9,2)\n",
        "data2 = (-1,-2,-4,-7,-12,-19)\n",
        "data3 = (-1,-13,-6,4,5,19,9 )"
      ],
      "metadata": {
        "id": "kmHbbY4q-16N"
      },
      "execution_count": null,
      "outputs": []
    },
    {
      "cell_type": "code",
      "source": [
        "data1 = (11,3,4,5,7,9,2)\n",
        "data2 = (-1,-2,-4,-7,-12,-19)\n",
        "data3 = (-1,-13,-6,4,5,19,9)"
      ],
      "metadata": {
        "id": "qwLlVSSe_nSe"
      },
      "execution_count": null,
      "outputs": []
    },
    {
      "cell_type": "code",
      "source": [
        "from fractions import Fraction as fr\n",
        "data4 = (fr(1, 2), fr(44, 12), fr(10, 3), fr(2, 3))\n",
        "data5 = {1:\"one\",2:\"two\",3:\"three\"}"
      ],
      "metadata": {
        "id": "gpUGnrZF_tWg"
      },
      "execution_count": null,
      "outputs": []
    },
    {
      "cell_type": "code",
      "source": [
        "import statistics as st\n",
        "from statistics import mean\n",
        "print(\"Mean of dataset 1 is % s\" %(mean(data1)))\n",
        "print(\"Mean of dataset 2 is % s\" %(mean(data2)))\n",
        "print(\"Mean of dataset 3 is % s\" %(mean(data3)))\n",
        "print(\"Mean of dataset 4 is % s\" %(mean(data4)))"
      ],
      "metadata": {
        "colab": {
          "base_uri": "https://localhost:8080/"
        },
        "id": "Gy4h24v0_wSl",
        "outputId": "f903dbba-6b5e-484c-c8dd-a796ceb2e34a"
      },
      "execution_count": null,
      "outputs": [
        {
          "output_type": "stream",
          "name": "stdout",
          "text": [
            "Mean of dataset 1 is 5.857142857142857\n",
            "Mean of dataset 2 is -7.5\n",
            "Mean of dataset 3 is 2.4285714285714284\n",
            "Mean of dataset 4 is 49/24\n"
          ]
        }
      ]
    },
    {
      "cell_type": "code",
      "source": [
        "import scipy\n",
        "import numpy as np\n",
        "\n",
        "arr1 = [1, 3, np.nan, 27, 2, 5]\n",
        "print(\"median using nanmedian :\", np.nanmedian(arr1))\n",
        "print(\"median without handling nan value :\", np.median(arr1))"
      ],
      "metadata": {
        "colab": {
          "base_uri": "https://localhost:8080/"
        },
        "id": "EVPr6H5qAIAv",
        "outputId": "4ca68daf-0e10-462e-b564-a689eaf06cb1"
      },
      "execution_count": null,
      "outputs": [
        {
          "output_type": "stream",
          "name": "stdout",
          "text": [
            "median using nanmedian : 3.0\n",
            "median without handling nan value : nan\n"
          ]
        }
      ]
    },
    {
      "cell_type": "code",
      "source": [],
      "metadata": {
        "id": "5uTfYiKZA-ga"
      },
      "execution_count": null,
      "outputs": []
    }
  ]
}